{
 "cells": [
  {
   "cell_type": "code",
   "execution_count": 1,
   "id": "5b2dd574-a09b-47de-8d25-36e4be9a1385",
   "metadata": {},
   "outputs": [
    {
     "name": "stderr",
     "output_type": "stream",
     "text": [
      "2024-01-29 21:50:02.701820: I external/local_tsl/tsl/cuda/cudart_stub.cc:31] Could not find cuda drivers on your machine, GPU will not be used.\n",
      "2024-01-29 21:50:02.868802: E external/local_xla/xla/stream_executor/cuda/cuda_dnn.cc:9261] Unable to register cuDNN factory: Attempting to register factory for plugin cuDNN when one has already been registered\n",
      "2024-01-29 21:50:02.868902: E external/local_xla/xla/stream_executor/cuda/cuda_fft.cc:607] Unable to register cuFFT factory: Attempting to register factory for plugin cuFFT when one has already been registered\n",
      "2024-01-29 21:50:02.894653: E external/local_xla/xla/stream_executor/cuda/cuda_blas.cc:1515] Unable to register cuBLAS factory: Attempting to register factory for plugin cuBLAS when one has already been registered\n",
      "2024-01-29 21:50:02.955830: I external/local_tsl/tsl/cuda/cudart_stub.cc:31] Could not find cuda drivers on your machine, GPU will not be used.\n",
      "2024-01-29 21:50:02.957225: I tensorflow/core/platform/cpu_feature_guard.cc:182] This TensorFlow binary is optimized to use available CPU instructions in performance-critical operations.\n",
      "To enable the following instructions: AVX2 FMA, in other operations, rebuild TensorFlow with the appropriate compiler flags.\n",
      "2024-01-29 21:50:03.884370: W tensorflow/compiler/tf2tensorrt/utils/py_utils.cc:38] TF-TRT Warning: Could not find TensorRT\n"
     ]
    }
   ],
   "source": [
    "import os\n",
    "import numpy as np\n",
    "from tensorflow.keras.preprocessing.image import ImageDataGenerator, load_img, img_to_array\n",
    "from tensorflow.keras import layers, models\n",
    "from tensorflow.keras.optimizers import Adam\n",
    "from tensorflow.keras.callbacks import LearningRateScheduler\n",
    "\n",
    "good_tyre_path = '/home/karthik/Desktop/CNN/git/websitecnn/archive/allimages/good'\n",
    "bad_tyre_path = '/home/karthik/Desktop/CNN/git/websitecnn/archive/allimages/defective'\n",
    "\n",
    "# Function to load and preprocess images\n",
    "def load_and_preprocess_images(folder_path, label, target_size=(128, 128)): \n",
    "    images = []\n",
    "    labels = []\n",
    "    for filename in os.listdir(folder_path):\n",
    "        img_path = os.path.join(folder_path, filename)\n",
    "        img = load_img(img_path, target_size=target_size)\n",
    "        img_array = img_to_array(img)\n",
    "        images.append(img_array)\n",
    "        labels.append(label)\n",
    "    return np.array(images), np.array(labels)\n",
    "\n"
   ]
  },
  {
   "cell_type": "code",
   "execution_count": 2,
   "id": "4c4ae0c3-99ce-41bf-8312-8ed26701384a",
   "metadata": {},
   "outputs": [],
   "source": [
    "good_tyre_images, good_tyre_labels = load_and_preprocess_images(good_tyre_path, label=0)\n",
    "bad_tyre_images, bad_tyre_labels = load_and_preprocess_images(bad_tyre_path, label=1)\n",
    "\n",
    "# Combine and shuffle the data\n",
    "all_images = np.concatenate((good_tyre_images, bad_tyre_images), axis=0)\n",
    "all_labels = np.concatenate((good_tyre_labels, bad_tyre_labels), axis=0)\n",
    "shuffle_indices = np.random.permutation(len(all_images))\n",
    "all_images = all_images[shuffle_indices]\n",
    "all_labels = all_labels[shuffle_indices]\n",
    "\n",
    "split_ratio = 0.8\n",
    "split_index = int(len(all_images) * split_ratio)\n",
    "\n",
    "train_data, train_labels = all_images[:split_index], all_labels[:split_index]\n",
    "val_data, val_labels = all_images[split_index:], all_labels[split_index:]\n",
    "\n",
    "# Data Augmentation\n",
    "datagen = ImageDataGenerator(\n",
    "    rotation_range=30,\n",
    "    width_shift_range=0.2,\n",
    "    height_shift_range=0.2,\n",
    "    shear_range=0.2,\n",
    "    zoom_range=0.2,\n",
    "    horizontal_flip=True,\n",
    "    fill_mode='nearest'\n",
    ")\n",
    "\n",
    "# Use a learning rate scheduler\n",
    "def lr_schedule(epoch):\n",
    "    lr = 0.0001\n",
    "    if epoch > 60:\n",
    "        lr *= 0.1\n",
    "    return lr\n",
    "\n",
    "lr_scheduler = LearningRateScheduler(lr_schedule)\n",
    "\n"
   ]
  },
  {
   "cell_type": "code",
   "execution_count": null,
   "id": "54946b39-c6e7-458b-9cbe-b3ca69de4523",
   "metadata": {},
   "outputs": [
    {
     "name": "stdout",
     "output_type": "stream",
     "text": [
      "Epoch 1/120\n",
      "47/47 [==============================] - 49s 1s/step - loss: 2.2446 - accuracy: 0.5923 - val_loss: 2.3401 - val_accuracy: 0.4409 - lr: 1.0000e-04\n",
      "Epoch 2/120\n",
      "47/47 [==============================] - 48s 1s/step - loss: 1.3630 - accuracy: 0.6759 - val_loss: 0.9384 - val_accuracy: 0.6586 - lr: 1.0000e-04\n",
      "Epoch 3/120\n",
      "47/47 [==============================] - 48s 1s/step - loss: 0.8752 - accuracy: 0.6887 - val_loss: 0.6194 - val_accuracy: 0.7419 - lr: 1.0000e-04\n",
      "Epoch 4/120\n",
      "47/47 [==============================] - 49s 1s/step - loss: 0.7114 - accuracy: 0.6968 - val_loss: 0.6250 - val_accuracy: 0.7070 - lr: 1.0000e-04\n",
      "Epoch 5/120\n",
      "47/47 [==============================] - 48s 1s/step - loss: 0.6412 - accuracy: 0.7210 - val_loss: 0.5412 - val_accuracy: 0.7339 - lr: 1.0000e-04\n",
      "Epoch 6/120\n",
      "47/47 [==============================] - 48s 1s/step - loss: 0.5994 - accuracy: 0.7170 - val_loss: 0.4348 - val_accuracy: 0.7930 - lr: 1.0000e-04\n",
      "Epoch 7/120\n",
      "47/47 [==============================] - 48s 1s/step - loss: 0.5305 - accuracy: 0.7554 - val_loss: 0.4145 - val_accuracy: 0.8280 - lr: 1.0000e-04\n",
      "Epoch 8/120\n",
      "47/47 [==============================] - 48s 1s/step - loss: 0.5412 - accuracy: 0.7675 - val_loss: 0.4324 - val_accuracy: 0.8011 - lr: 1.0000e-04\n",
      "Epoch 9/120\n",
      "47/47 [==============================] - 49s 1s/step - loss: 0.5173 - accuracy: 0.7594 - val_loss: 0.5253 - val_accuracy: 0.7742 - lr: 1.0000e-04\n",
      "Epoch 10/120\n",
      "47/47 [==============================] - 49s 1s/step - loss: 0.5179 - accuracy: 0.7601 - val_loss: 0.5257 - val_accuracy: 0.8038 - lr: 1.0000e-04\n",
      "Epoch 11/120\n",
      "47/47 [==============================] - 49s 1s/step - loss: 0.4940 - accuracy: 0.7695 - val_loss: 0.4272 - val_accuracy: 0.7876 - lr: 1.0000e-04\n",
      "Epoch 12/120\n",
      "33/47 [====================>.........] - ETA: 13s - loss: 0.4579 - accuracy: 0.7770"
     ]
    }
   ],
   "source": [
    "model = models.Sequential()\n",
    "model.add(layers.Conv2D(64, (3, 3), activation='relu', input_shape=(128, 128, 3)))\n",
    "model.add(layers.BatchNormalization())\n",
    "model.add(layers.MaxPooling2D((2, 2)))\n",
    "model.add(layers.Conv2D(128, (3, 3), activation='relu'))\n",
    "model.add(layers.BatchNormalization())\n",
    "model.add(layers.MaxPooling2D((2, 2)))\n",
    "model.add(layers.Conv2D(256, (3, 3), activation='relu'))\n",
    "model.add(layers.BatchNormalization())\n",
    "model.add(layers.MaxPooling2D((2, 2)))\n",
    "model.add(layers.Flatten())\n",
    "model.add(layers.Dense(512, activation='relu'))\n",
    "model.add(layers.Dropout(0.5))\n",
    "model.add(layers.Dense(1, activation='sigmoid'))\n",
    "\n",
    "# Compile the model\n",
    "model.compile(optimizer=Adam(learning_rate=0.0001), loss='binary_crossentropy', metrics=['accuracy'])\n",
    "\n",
    "# Train the model\n",
    "model.fit(datagen.flow(train_data, train_labels, batch_size=32), epochs=120,  \n",
    "          validation_data=(val_data, val_labels), callbacks=[lr_scheduler])\n",
    "\n",
    "# Save the model\n",
    "model.save('dude.h5')\n"
   ]
  },
  {
   "cell_type": "code",
   "execution_count": null,
   "id": "8d2177ea-5f9e-4654-8ade-42aa8c3659f8",
   "metadata": {},
   "outputs": [],
   "source": []
  }
 ],
 "metadata": {
  "kernelspec": {
   "display_name": "Python 3 (ipykernel)",
   "language": "python",
   "name": "python3"
  },
  "language_info": {
   "codemirror_mode": {
    "name": "ipython",
    "version": 3
   },
   "file_extension": ".py",
   "mimetype": "text/x-python",
   "name": "python",
   "nbconvert_exporter": "python",
   "pygments_lexer": "ipython3",
   "version": "3.9.5"
  }
 },
 "nbformat": 4,
 "nbformat_minor": 5
}
